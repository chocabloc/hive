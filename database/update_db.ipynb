{
 "cells": [
  {
   "cell_type": "code",
   "execution_count": null,
   "id": "4427f658",
   "metadata": {},
   "outputs": [],
   "source": [
    "\n",
    "import psycopg2\n",
    "from llama_cpp import Llama\n",
    "import os, ast\n",
    "import datetime\n",
    "from collections import defaultdict"
   ]
  },
  {
   "cell_type": "code",
   "execution_count": 3,
   "id": "cda8592a",
   "metadata": {},
   "outputs": [],
   "source": [
    "current_date = datetime.date.today()"
   ]
  },
  {
   "cell_type": "code",
   "execution_count": null,
   "id": "4f96ee48",
   "metadata": {},
   "outputs": [],
   "source": [
    "#all helper functions can be found here\n",
    "################################################################################\n",
    "\n",
    "def chunk_transcript(transcript: str, model_max_tokens: int = 4096, reserved_tokens: int = 512):\n",
    "    tokens = llm.tokenize(transcript.encode(\"utf-8\"))\n",
    "    chunk_size = model_max_tokens - reserved_tokens\n",
    "    chunks = []\n",
    "    for i in range(0, len(tokens), chunk_size):\n",
    "        chunk_tokens = tokens[i:i + chunk_size]\n",
    "        chunk_text = llm.detokenize(chunk_tokens).decode(\"utf-8\",errors=\"ignore\")\n",
    "        chunks.append(chunk_text)\n",
    "    return chunks\n",
    "\n",
    "################################################################################\n",
    "\n",
    "def chunk_text(text, chunk_size=1000, overlap=200):\n",
    "    \"\"\"Split text into overlapping chunks by tokens.\"\"\"\n",
    "    tokens = llm.tokenize(text.encode('utf-8'))\n",
    "    chunks = []\n",
    "    for i in range(0, len(tokens), chunk_size - overlap):\n",
    "        chunk = tokens[i:i + chunk_size]\n",
    "        chunks.append(llm.detokenize(chunk).decode('utf-8', errors = \"ignore\"))\n",
    "    return chunks\n",
    "\n",
    "\n",
    "\n",
    "\n",
    "# GPU settings (for ROCm)\n",
    "os.environ[\"HSA_OVERRIDE_GFX_VERSION\"] = \"10.3.0\"\n",
    "os.environ[\"HIP_VISIBLE_DEVICES\"] = \"0\"\n",
    "\n",
    "\n",
    "REQUIRED_KEYS = {\n",
    "   \n",
    "    \"events\": {},\n",
    "    \"action_items\": {}\n",
    "}\n",
    "# Prompt to get the info from the transcript, needs tweaking\n",
    "def extract_info(transcript: str) -> dict:\n",
    "    prompt = f\"\"\"\n",
    "You are an information extraction system.\n",
    "Read the transcript below and return ONLY a valid Python dictionary in this exact schema:\n",
    "\n",
    "{{\n",
    "\"events\": {{\"The event mentioned in the transcript\": [list of people mentioned involving the event, [date the event is on in the format YYYY-MM-DD, as supported by SQL. If month and year not mentioned, use the current month and year. Do not include anything that is ambiguous about the DD],[list of locations where the event occurs]]}}   \n",
    "\"actions\": {{\"task/to-do\": [[list of \"persons entrusted], [date for the task to be completed, in the format YYYY-MM-DD, as supported by SQL. If month and year not mentioned, use the current month and year. if DD is not mentioned, put the last of the current month\"],[list of locations where the action is to be performed]]\"}}\n",
    "}}\n",
    "\n",
    "If no values exist, use [] or {{}} accordingly.\n",
    "Do not add explanations or extra text.\n",
    "Do not add ```python in the beginning.\n",
    "Do not add any mentions about not knowing the current date, I have supplied it to you here: current date is {current_date}\n",
    "Transcript: \\\"\\\"\\\"{transcript}\\\"\\\"\\\"\n",
    "\n",
    "\"\"\"\n",
    "\n",
    "    response = llm(prompt, max_tokens=512, stop=[\"\\n\\n\"])\n",
    "    raw = response[\"choices\"][0][\"text\"].strip()\n",
    "    return raw\n",
    "    if not raw:\n",
    "        return REQUIRED_KEYS  # fallback if model gave nothing\n",
    "\n",
    "    try:\n",
    "        parsed = ast.literal_eval(raw)\n",
    "        if not isinstance(parsed, dict):\n",
    "            return REQUIRED_KEYS\n",
    "    except Exception:\n",
    "        return REQUIRED_KEYS  # fallback on bad output\n",
    "\n",
    "    # Ensure all required keys are present\n",
    "    return {**REQUIRED_KEYS, **parsed}\n",
    "\n",
    "\n",
    "\n"
   ]
  },
  {
   "cell_type": "code",
   "execution_count": null,
   "id": "c1e9a61d",
   "metadata": {},
   "outputs": [
    {
     "name": "stderr",
     "output_type": "stream",
     "text": [
      "llama_context: n_ctx_per_seq (4096) < n_ctx_train (32768) -- the full capacity of the model will not be utilized\n"
     ]
    }
   ],
   "source": [
    "# running mistral quantized 4bit via llama.cpp, have to test gemma4b \n",
    "llm = Llama(\n",
    "    model_path=\"/home/vijay/llama.cpp/models/mistral/mistral-7b-instruct-v0.2.Q4_K_M.gguf\",\n",
    "    verbose=False,\n",
    "    n_ctx = 4096,\n",
    "    n_gpu_layers=-1,\n",
    "            # prints backend info\n",
    ")\n"
   ]
  },
  {
   "cell_type": "code",
   "execution_count": 6,
   "id": "93f8bbcd",
   "metadata": {},
   "outputs": [],
   "source": [
    "#llm(\"Hello\", max_tokens=1)  # warmup\n",
    "\n",
    "with open(\"keyextract.txt\", \"r\", encoding=\"utf-8\") as f:\n",
    "      transcript = f.read()\n",
    "\n",
    "output_dict = extract_info(transcript)"
   ]
  },
  {
   "cell_type": "code",
   "execution_count": null,
   "id": "03aefc68",
   "metadata": {},
   "outputs": [
    {
     "data": {
      "text/plain": [
       "{'events': {'conference': [['Alice', 'Bob'], ['2025-09-12'], ['Bangalore']],\n",
       "  'company retreat': [['Alice'], ['2025-09-25'], ['Goa']]},\n",
       " 'action_items': {},\n",
       " 'actions': {'book venue': [['Bob'], ['2025-09-XX'], ['Bangalore']],\n",
       "  'prepare slides': [['Charlie'], ['2025-09-XX'], ['']],\n",
       "  'send budget report': [['Bob'], ['2025-09-XX'], ['']],\n",
       "  'assign client visit preparation': [['Charlie'], ['2025-10-10'], ['Delhi']],\n",
       "  'follow up with marketing team about social media campaign': [['Bob'],\n",
       "   ['2025-09-XX'],\n",
       "   ['']]}}"
      ]
     },
     "execution_count": 8,
     "metadata": {},
     "output_type": "execute_result"
    }
   ],
   "source": []
  },
  {
   "cell_type": "code",
   "execution_count": 7,
   "id": "6be0901c",
   "metadata": {},
   "outputs": [],
   "source": [
    "def dict_convert(input_dict):\n",
    "    try:\n",
    "        parsed = ast.literal_eval(input_dict)\n",
    "        if not isinstance(parsed, dict):\n",
    "            return REQUIRED_KEYS\n",
    "    except Exception:\n",
    "        return REQUIRED_KEYS  # fallback on bad output\n",
    "\n",
    "    # Ensure all required keys are present\n",
    "    return {**REQUIRED_KEYS, **parsed}\n",
    "\n",
    "converted_dict = dict_convert(output_dict)"
   ]
  },
  {
   "cell_type": "code",
   "execution_count": null,
   "id": "33c044c8",
   "metadata": {},
   "outputs": [
    {
     "ename": "SyntaxError",
     "evalue": "invalid syntax (3916002200.py, line 1)",
     "output_type": "error",
     "traceback": [
      "  \u001b[36mCell\u001b[39m\u001b[36m \u001b[39m\u001b[32mIn[68]\u001b[39m\u001b[32m, line 1\u001b[39m\n\u001b[31m    \u001b[39m\u001b[31madd person to persons table, grab id\u001b[39m\n        ^\n\u001b[31mSyntaxError\u001b[39m\u001b[31m:\u001b[39m invalid syntax\n"
     ]
    }
   ],
   "source": []
  },
  {
   "cell_type": "code",
   "execution_count": null,
   "id": "6be55b95",
   "metadata": {},
   "outputs": [],
   "source": [
    "#connect to server\n",
    "try:\n",
    "    conn = psycopg2.connect(database = \"userdata\",\n",
    "                            user = \"postgres\",\n",
    "                            host = \"localhost\",\n",
    "                            password = '1312345',\n",
    "                            port = 5432)\n",
    "except:\n",
    "    print('unable to connect')"
   ]
  },
  {
   "cell_type": "code",
   "execution_count": null,
   "id": "14111a7d",
   "metadata": {},
   "outputs": [
    {
     "name": "stdout",
     "output_type": "stream",
     "text": [
      "{'Alice': 73, 'Bob': 74}\n",
      "{'Bangalore': 41}\n",
      "{'2025-09-12': 17}\n",
      "{'Alice': 75, 'Bob': 74}\n",
      "{'Bangalore': 41, 'Goa': 42}\n",
      "{'2025-09-12': 17, '2025-09-25': 18}\n"
     ]
    }
   ],
   "source": [
    "#update the database ACTIONS NOT IMPLEMENTED CUZ LLM IS MESSING UP\n",
    "with conn.cursor() as curs:\n",
    "    person_dict ={}\n",
    "    location_dict = {}\n",
    "    date_dict = {}\n",
    "    event_dict = defaultdict(list)\n",
    "    for event in converted_dict['events']:\n",
    "        info_list = converted_dict['events'][event]\n",
    "        person_list = info_list[0]\n",
    "        date_list = info_list[1]\n",
    "        location_list =  info_list[2]\n",
    "\n",
    "        for person in person_list:\n",
    "            curs.execute(f\"INSERT INTO persons (person_name) VALUES('{person}')\")\n",
    "            curs.execute(\"SELECT * FROM persons ORDER BY person_id DESC LIMIT 1\")\n",
    "            single_row = curs.fetchone()\n",
    "            person_dict[person] = single_row[0]\n",
    "            \n",
    "        for location in location_list:\n",
    "            curs.execute(f\"INSERT INTO locations (country, city) VALUES('{location}','{location}')\")\n",
    "            curs.execute(\"SELECT * FROM locations ORDER BY location_id DESC LIMIT 1\")\n",
    "            \n",
    "            single_row = curs.fetchone()\n",
    "            location_dict[location] = single_row[0]\n",
    "            curs.execute(f\"INSERT INTO events (event_name, location_id) VALUES ('{event}','{location_dict[location]}')\")\n",
    "            curs.execute(\"SELECT * FROM event ORDER BY event_id DESC LIMIT 1\")\n",
    "            single_row = curs.fetchone()\n",
    "            event_dict[event].append(single_row[0])\n",
    "        for date in date_list:\n",
    "            \n",
    "            curs.execute(f\"INSERT INTO dates (event_date) VALUES('{date}')\")\n",
    "            curs.execute(\"SELECT * FROM dates ORDER BY date_id DESC LIMIT 1\")\n",
    "            single_row = curs.fetchone()\n",
    "            date_dict[date] = single_row[0]\n",
    "        for person in person_list:\n",
    "            for location in location_list:\n",
    "                curs.execute(f\"INSERT INTO person_events (person_id, event_id) VALUES ('{person_dict[person]}','{location_dict[location]}')\")\n",
    "        print(person_dict)\n",
    "        print(location_dict)\n",
    "        print(date_dict)\n",
    "    "
   ]
  },
  {
   "cell_type": "code",
   "execution_count": null,
   "id": "e01e6a02",
   "metadata": {},
   "outputs": [],
   "source": [
    "#Clear database\n",
    "with conn.cursor() as curs:\n",
    "    curs.execute(\"DELETE FROM locations\")\n",
    "    curs.execute(\"DELETE FROM persons\")\n",
    "    curs.execute(\"DELETE FROM dates\")\n",
    "    curs.execute(\"DELETE FROM person_events\")"
   ]
  },
  {
   "cell_type": "code",
   "execution_count": null,
   "id": "6ebf079e",
   "metadata": {},
   "outputs": [],
   "source": [
    "\"\"\"{{\n",
    "  \"persons\": [list of people mentioned],\n",
    "  \"locations\": [list of locations mentioned],\n",
    "  \"dates\": {{\"date in the format YYYY-MM-DD, as supported by SQL. If month and year not mentioned, use the current month and year. Do not include anything that is ambiguous about the DD\": \"context where date appears\"}},\n",
    "  \"events\": [list of events mentioned],\n",
    "  \"action_items\": {{\"task/to-do\": \"person it is entrusted to\"}}\n",
    "}}\"\"\"\n",
    "\n",
    "\"\"\"\n",
    "\"events\": {{\"The event mentioned in the transcript\": [[list of people mentioned involving the event], [date the event is on in the format YYYY-MM-DD, as supported by SQL. If month and year not mentioned, use the current month and year. Do not include anything that is ambiguous about the DD],[list of locations where the event occurs]]}}   \n",
    "\"actions\": {{\"task/to-do\": [[list of \"persons entrusted], [date for the task to be completed, in the format YYYY-MM-DD, as supported by SQL. If month and year not mentioned, use the current month and year. Do not include anything that is ambiguous about the DD\"],[list of locations where the action is to be performed]]\"}}\n",
    "\"\"\""
   ]
  }
 ],
 "metadata": {
  "kernelspec": {
   "display_name": "AIDS",
   "language": "python",
   "name": "python3"
  },
  "language_info": {
   "codemirror_mode": {
    "name": "ipython",
    "version": 3
   },
   "file_extension": ".py",
   "mimetype": "text/x-python",
   "name": "python",
   "nbconvert_exporter": "python",
   "pygments_lexer": "ipython3",
   "version": "3.12.3"
  }
 },
 "nbformat": 4,
 "nbformat_minor": 5
}
