{
 "cells": [
  {
   "cell_type": "code",
   "execution_count": null,
   "metadata": {},
   "outputs": [],
   "source": [
    "!pip install assemblyai --quiet\n",
    "\n",
    "import assemblyai as aai"
   ]
  },
  {
   "cell_type": "code",
   "execution_count": null,
   "metadata": {},
   "outputs": [
    {
     "name": "stdout",
     "output_type": "stream",
     "text": [
      "Mounted at /content/drive\n"
     ]
    }
   ],
   "source": [
    "from google.colab import drive\n",
    "drive.mount('/content/drive',force_remount=True)"
   ]
  },
  {
   "cell_type": "code",
   "execution_count": null,
   "metadata": {},
   "outputs": [
    {
     "name": "stdout",
     "output_type": "stream",
     "text": [
      "Requirement already satisfied: yt-dlp in /usr/local/lib/python3.11/dist-packages (2025.8.11)\n",
      "[youtube] Extracting URL: https://www.youtube.com/watch?v=leUF554Jy9g\n",
      "[youtube] leUF554Jy9g: Downloading webpage\n",
      "[youtube] leUF554Jy9g: Downloading tv client config\n",
      "[youtube] leUF554Jy9g: Downloading tv player API JSON\n",
      "[youtube] leUF554Jy9g: Downloading ios player API JSON\n",
      "[youtube] leUF554Jy9g: Downloading m3u8 information\n",
      "[info] leUF554Jy9g: Downloading 1 format(s): 251\n",
      "[info] leUF554Jy9g: Downloading 1 time ranges: 0.0-85.0\n",
      "[download] Destination: 'Wet Dreams of Pakistanis'： Sushant Sareen Slams Munir's Nuke Threat, Warns 'Seed Will Be Destroyed' [leUF554Jy9g].webm\n",
      "Input #0, matroska,webm, from 'https://rr4---sn-najern7k.googlevideo.com/videoplayback?expire=1755112733&ei=vZCcaPCDE9KN2_gPoJDokQ4&ip=34.106.194.56&id=o-ADIXOR0AfYHaZ3KEz7hFe27CMlVcCmq_xgMGQjZyTYyJ&itag=251&source=youtube&requiressl=yes&xpc=EgVo2aDSNQ%3D%3D&cps=176&met=1755091133%2C&mh=1f&mm=31%2C29&mn=sn-najern7k%2Csn-naj7yn76&ms=au%2Crdu&mv=m&mvi=4&pl=20&rms=au%2Cau&bui=AY1jyLN1dgvlG6dGGucTTAX_mc5HDxlTSHQu8i_RxkvwxmAWwnKeu5xz-_FQnWgK7nj5mj4x4qpvODxe&vprv=1&svpuc=1&mime=audio%2Fwebm&ns=lW2Fg0dK9dLkyk7hL7xY9Y4Q&rqh=1&gir=yes&clen=4978470&ratebypass=yes&dur=319.041&lmt=1755008793106240&mt=1755090786&fvip=5&keepalive=yes&lmw=1&fexp=51548755%2C51557446&c=TVHTML5&sefc=1&txp=5318224&n=ThWOP-zod5b4lA&sparams=expire%2Cei%2Cip%2Cid%2Citag%2Csource%2Crequiressl%2Cxpc%2Cbui%2Cvprv%2Csvpuc%2Cmime%2Cns%2Crqh%2Cgir%2Cclen%2Cratebypass%2Cdur%2Clmt&sig=AJfQdSswRQIgFhmUcRY7dz3eYGv8IIByWDAjwEUt8K99podBvSSZALwCIQDnm9kqGWZmtglJCelb9FloYCTMv7MRj7Eg7AtqbywHbw%3D%3D&lsparams=cps%2Cmet%2Cmh%2Cmm%2Cmn%2Cms%2Cmv%2Cmvi%2Cpl%2Crms&lsig=APaTxxMwRAIgVwspDnxvR_4e1SioHAFygueZFakzDRLzHxc4KsAynCQCIATHqFm7_95pVFrmmRf9IGNP2lttfXQY75xA0qTzc4Rk':\n",
      "  Metadata:\n",
      "    encoder         : google/video-file\n",
      "  Duration: 00:05:19.04, start: -0.007000, bitrate: 124 kb/s\n",
      "  Stream #0:0(eng): Audio: opus, 48000 Hz, stereo, fltp (default)\n",
      "Output #0, webm, to 'file:'Wet Dreams of Pakistanis'： Sushant Sareen Slams Munir's Nuke Threat, Warns 'Seed Will Be Destroyed' [leUF554Jy9g].webm.part':\n",
      "  Metadata:\n",
      "    encoder         : Lavf58.76.100\n",
      "  Stream #0:0(eng): Audio: opus, 48000 Hz, stereo, fltp (default)\n",
      "Stream mapping:\n",
      "  Stream #0:0 -> #0:0 (copy)\n",
      "Press [q] to stop, [?] for help\n",
      "size=    1273kB time=00:01:24.98 bitrate= 122.7kbits/s speed= 774x    \n",
      "video:0kB audio:1243kB subtitle:0kB other streams:0kB global headers:0kB muxing overhead: 2.415281%\n",
      "\u001b[K[download] 100% of    1.24MiB in \u001b[1;37m00:00:00\u001b[0m at \u001b[0;32m3.09MiB/s\u001b[0m\n",
      "[ExtractAudio] Destination: 'Wet Dreams of Pakistanis'： Sushant Sareen Slams Munir's Nuke Threat, Warns 'Seed Will Be Destroyed' [leUF554Jy9g].wav\n",
      "Deleting original file 'Wet Dreams of Pakistanis'： Sushant Sareen Slams Munir's Nuke Threat, Warns 'Seed Will Be Destroyed' [leUF554Jy9g].webm (pass -k to keep)\n"
     ]
    }
   ],
   "source": [
    "!pip install yt-dlp\n",
    "!yt-dlp --download-sections \"*0:00-1:25\" -x --audio-format wav \"https://www.youtube.com/watch?v=leUF554Jy9g\""
   ]
  },
  {
   "cell_type": "code",
   "execution_count": null,
   "metadata": {},
   "outputs": [
    {
     "name": "stdout",
     "output_type": "stream",
     "text": [
      "Uploaded to: https://cdn.assemblyai.com/upload/3120cebb-c4c1-4b08-92b9-5b902c81bacd\n"
     ]
    }
   ],
   "source": [
    "aai.settings.api_key = \"YOUR API KEY HERE\"\n",
    "filename=\"sample6.wav\"\n",
    "upload_url = aai.Transcriber().upload_file(filename)\n",
    "print(\"Uploaded to:\", upload_url)"
   ]
  },
  {
   "cell_type": "code",
   "execution_count": null,
   "metadata": {},
   "outputs": [],
   "source": [
    "config = aai.TranscriptionConfig(speaker_labels=True)\n",
    "\n",
    "transcriber = aai.Transcriber()\n",
    "transcript = transcriber.transcribe(upload_url, config)"
   ]
  },
  {
   "cell_type": "code",
   "execution_count": null,
   "metadata": {},
   "outputs": [
    {
     "name": "stdout",
     "output_type": "stream",
     "text": [
      "\n",
      "=== Speaker Diarization Output ===\n",
      "[0.08 - 4.16] Speaker A: Say Congress, secular party, secularism.\n",
      "[5.84 - 12.48] Speaker B: Add to that, you know, this is what upsets me and Rahul upsets me.\n",
      "[14.48 - 16.96] Speaker A: Congress party brought in cow slaughter laws.\n",
      "[17.12 - 49.55] Speaker B: Manmohan Narasimharao, Rahul Gandhi, Indira Gandhi never upset me because\n",
      "they were. They maintained the Congress as a big dent party. I think the decline started in the\n",
      "Sonia years when they started going to see, see, she's a European with these European social\n",
      "Democrat ideas about this thing. And unfortunately Rahul in his mind is much more. Look at who he\n",
      "respects. He can never respect a Ghansham or Harlal from Son of the Soil. He needs only Ayvika Ivy\n",
      "League people to surround him.\n",
      "[49.55 - 52.67] Speaker C: I don't think so now. Yeah, he does now. He has all these leftists.\n",
      "[53.71 - 56.83] Speaker B: He has Kanaya Kumar, but Kanaya Kumar is Desiiv.\n",
      "[57.42 - 60.94] Speaker C: No, there was a time that there were only the elite around.\n",
      "[61.66 - 66.54] Speaker B: This is what gets me about. Yeah, one second. Let me finish.\n",
      "[72.06 - 74.30] Speaker C: Just two more sentences and then we go to Anand.\n",
      "[76.70 - 90.72] Speaker B: And I think this is where Abhijit gets it wrong that he extrapolates\n",
      "Rahul Gandhi's mindset onto Nehru and Indira Gandhi. They were nothing. They were watch. I can never\n",
      "question the nationalism of Nehru and Indira.\n",
      "[90.72 - 92.20] Speaker A: Oh my God.\n",
      "[95.48 - 119.33] Speaker B: This is a hill I will die. This is the hill I'm willing to die on. And\n",
      "that is why I say this. When I say this, you have to understand my bitterness now with the congress\n",
      "that, you know, Bilawal is a kind of gay, twinkie, androgynous version of Rahul Gandhi. And Rahul\n",
      "Gandhi is the butch, macho, straight version of his boyfriend.\n",
      "[119.73 - 120.77] Speaker D: I knew his boyfriend.\n",
      "[121.01 - 122.61] Speaker C: You knew Bilawal's boyfriend?\n",
      "[123.09 - 123.65] Speaker A: Did he.\n",
      "[123.81 - 126.45] Speaker B: Did you know him like Esther knew the king?\n",
      "[126.45 - 127.73] Speaker C: Or did he visit?\n",
      "[146.61 - 155.27] Speaker B: Priyanka did such a fantastic job and she, you know, Priyanka can\n",
      "sometimes, you.\n",
      "[155.27 - 156.63] Speaker C: Know, she's very good at mimicking.\n",
      "[156.63 - 162.35] Speaker E: But the good point is you didn't say what you said in English. Did he\n",
      "come in the midnight?\n",
      "[162.51 - 163.15] Speaker C: Okay, please.\n",
      "[163.15 - 165.87] Speaker D: Exactly. What? Who comes in the night?\n",
      "[166.43 - 179.82] Speaker C: Who let the dogs out? Let's get on to this. Elon Musk.\n",
      "[195.10 - 208.01] Speaker E: Israel. Problem solved. Because. Yay. Visceral problem. Pakistan.\n",
      "Visceral problem. India is a visceral problem.\n",
      "[208.97 - 209.45] Speaker D: Correct.\n",
      "[217.61 - 227.45] Speaker E: You understand? They might not have the means that they have today of\n",
      "attacking, but they will send in swarms and swarms of. You understand that the population of Gaza\n",
      "has now increased.\n",
      "[227.84 - 228.08] Speaker D: Yeah.\n",
      "[228.08 - 230.64] Speaker E: In the last two years, right? It has, yes.\n",
      "[231.20 - 231.76] Speaker D: Is it?\n",
      "[231.76 - 235.20] Speaker E: So they are playing by numbers you cannot defeat. That's all. I'm\n",
      "limited.\n",
      "[235.20 - 235.44] Speaker C: Point.\n",
      "[235.44 - 238.24] Speaker E: I was Trying to make. If we believe that we have ebbed this problem.\n",
      "[238.48 - 239.12] Speaker C: We have.\n",
      "[239.76 - 240.48] Speaker E: That is all I'm saying.\n",
      "[240.48 - 242.40] Speaker D: Nobody believes the problem is solved or.\n",
      "[242.56 - 245.04] Speaker C: But what we're trying to say, yeah.\n",
      "[245.28 - 247.60] Speaker D: The price has to be increasingly a lot.\n",
      "[249.04 - 253.84] Speaker E: You are contradicting Sushant Paji when he says they don't give a toss\n",
      "about.\n",
      "[258.08 - 264.81] Speaker A: By attacking their airports, by hitting their command and control\n",
      "centers, but it has increased the cost.\n",
      "[264.97 - 277.13] Speaker D: What he says is what do they care about their assets? You are hitting\n",
      "that. The generals want to go to the uk the generals want to go to Dubai. You're spoiling that for\n",
      "them. There are. So I think the cost has to be increased.\n",
      "[278.01 - 293.06] Speaker C: When you're talking about cheeseburger. When he's talking about Gaza,\n",
      "population has increased despite the bombing. This Zakir Rehman Laqwi, he was procreating. The guy\n",
      "was in jail and his wife was kept on producing children.\n",
      "[301.54 - 304.18] Speaker B: Isn't Zakir Rehman Laqfi gay? No.\n",
      "[304.18 - 305.34] Speaker C: And in spite of that, is producing.\n",
      "[305.34 - 306.86] Speaker E: Children before or after he went to kid?\n",
      "[306.86 - 308.10] Speaker C: Aren't you ashamed of yourself?\n",
      "[308.18 - 309.78] Speaker D: Let's do this in English ones.\n",
      "[310.42 - 311.06] Speaker C: Don't you know?\n",
      "[311.06 - 312.74] Speaker B: Don't you know biology is bigotry?\n",
      "[313.72 - 317.04] Speaker C: Oh, God. So you are a biologist. No.\n",
      "[317.04 - 320.68] Speaker B: Which means you're a pedaishi bigot. Bygot.\n",
      "[320.76 - 321.48] Speaker C: Bygot.\n",
      "[321.72 - 323.24] Speaker B: By God, you're a bygot.\n",
      "[329.48 - 330.68] Speaker C: What was the need to do this.\n",
      "[337.80 - 339.48] Speaker E: In the footage? Done. Rahul Gandhi out here.\n",
      "[339.48 - 351.96] Speaker C: Okay, so those who are just listening to it and not watching it. It's\n",
      "Elon Musk's tweet. We cheated. We said time to drop the bomb. The real Donald Trump is in Epstein\n",
      "files. That is the real reason that they have not been.\n",
      "[351.96 - 353.48] Speaker A: But you've taken this out of context.\n",
      "[353.88 - 419.83] Speaker C: Yeah. After the fight. Okay, so somebody wants to explain how. So\n",
      "between Trump and Musk, the fight started and then finally it came to this level where he did this\n",
      "and then there's no going back. Musk benefited from the Democrats and not just. It's not just me,\n",
      "it's the Democrats who are saying it. It's the late night comedians who are saying it. It's the news\n",
      "media in America which is saying it. That Trump had no hesitation in taking Musk's money when he was\n",
      "there and he agreed to all the low budget and curtail government spending, all that. And now when he\n",
      "doesn't agree to it, he brings Sam Altman there, asks this guy to go tariffs. He doesn't agree to\n",
      "what Musk is. He brought initially Musk in for. He just evicts. Musk from the team. I'm not\n",
      "justifying. Listen to what I'm saying. When he does this. And then Musk, whether he's justified or\n",
      "not in throwing a tantrum, a hissy fit on Twitter, on X in what he did, the whole thing just\n",
      "unraveled crazily in a couple of hours. And this was the final straw.\n",
      "[419.83 - 420.63] Speaker D: I think he's deleted.\n",
      "[420.63 - 421.07] Speaker A: But it was.\n",
      "[421.87 - 422.67] Speaker C: It's deleted.\n",
      "[423.15 - 424.03] Speaker E: Are you serious?\n",
      "[425.23 - 426.35] Speaker B: I think he's immutility.\n",
      "[427.71 - 432.67] Speaker D: He deleted it yesterday when the lawyer came out saying that, no, he's\n",
      "in the file.\n",
      "[433.15 - 434.95] Speaker C: Elon Musk deleted his poster.\n",
      "[434.95 - 435.55] Speaker A: Is it written?\n",
      "[435.79 - 436.27] Speaker B: Yeah, yeah.\n",
      "[436.27 - 440.75] Speaker D: See, I'm telling you. So the lawyers came out and said, we've seen the\n",
      "papers and Trump's name is not there.\n",
      "[440.75 - 441.23] Speaker A: So you have to.\n",
      "[441.71 - 454.83] Speaker C: Patel was on Joe Rogan's show. Kash Patel said that nothing of this\n",
      "sort has happened. The Joe Rogan show was amazing because it happened live. While this thing was\n",
      "blowing up, he was actually on the Joe Rogan.\n",
      "[454.83 - 480.01] Speaker A: Okay. So my thing is that this, the fight was not immediate. It was\n",
      "building up. Sam Altman and other things were also part of that buildup. But I personally think it\n",
      "started because Elon Musk made the big mistake of not keeping some distance between him and Donald\n",
      "Trump after having helped him. He was constantly next to Donald Trump and then he was, you know,\n",
      "it's okay to do it.\n"
     ]
    }
   ],
   "source": [
    "import textwrap\n",
    "print(\"\\n=== Speaker Diarization Output ===\")\n",
    "for utterance in transcript.utterances:\n",
    "    start_time = utterance.start / 1000  # ms → seconds\n",
    "    end_time = utterance.end / 1000\n",
    "    print(textwrap.fill(f\"[{start_time:.2f} - {end_time:.2f}] Speaker {utterance.speaker}: {utterance.text}\",width=100))"
   ]
  }
 ],
 "metadata": {
  "language_info": {
   "name": "python"
  }
 },
 "nbformat": 4,
 "nbformat_minor": 0
}
